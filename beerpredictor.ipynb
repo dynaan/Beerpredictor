{
  "nbformat": 4,
  "nbformat_minor": 0,
  "metadata": {
    "colab": {
      "provenance": []
    },
    "kernelspec": {
      "name": "python3",
      "display_name": "Python 3"
    },
    "language_info": {
      "name": "python"
    }
  },
  "cells": [
    {
      "cell_type": "markdown",
      "source": [
        "importing pandas library"
      ],
      "metadata": {
        "id": "7IkqVWa-KPgh"
      }
    },
    {
      "cell_type": "code",
      "execution_count": null,
      "metadata": {
        "id": "_EfqwHdpJj0t"
      },
      "outputs": [],
      "source": [
        "import pandas as pd\n",
        "from google.colab import files\n",
        "uploaded=files.upload()\n"
      ]
    },
    {
      "cell_type": "code",
      "source": [
        "data=pd.read_csv('train.csv')\n",
        "data.head()"
      ],
      "metadata": {
        "id": "Ga33CLE1R2m5"
      },
      "execution_count": null,
      "outputs": []
    },
    {
      "cell_type": "markdown",
      "source": [
        "Data exploration:shape of dataset,column names highlights,missing values,data types"
      ],
      "metadata": {
        "id": "v-Uqb49VQGUt"
      }
    },
    {
      "cell_type": "code",
      "source": [
        "print(\"shape of dataset:\",data.shape)\n",
        "print(\"columns of dataset:\",data.columns)\n",
        "print(data.isnull().sum())\n",
        "print(data.dtypes)\n",
        "data.head()"
      ],
      "metadata": {
        "collapsed": true,
        "id": "8sqBSw4EQC1-"
      },
      "execution_count": null,
      "outputs": []
    },
    {
      "cell_type": "markdown",
      "source": [
        "  handling missing values"
      ],
      "metadata": {
        "id": "EcDaZJV4RB4c"
      }
    },
    {
      "cell_type": "code",
      "source": [
        "print(data.isnull().sum())\n",
        "threshold=len(data)*0.5\n",
        "data=data.dropna(axis=1,thresh=threshold)\n",
        "#handling missing numerical values with mean\n",
        "nums_cols=data.select_dtypes(include=['int64','float64']).columns\n",
        "data[nums_cols]=data[nums_cols].fillna(data[nums_cols].mean())\n",
        "#categorical value with most frequent one\n",
        "cat_cols=data.select_dtypes(include=['object']).columns\n",
        "data[cat_cols]=data[cat_cols].fillna(data[cat_cols].mode().iloc[0])\n",
        "print(\"\\nchecking\")\n",
        "print(data.isnull().sum())"
      ],
      "metadata": {
        "collapsed": true,
        "id": "J6eE4acjRNHc"
      },
      "execution_count": null,
      "outputs": []
    },
    {
      "cell_type": "markdown",
      "source": [
        "Here dropping columns which are not containing meaningful information"
      ],
      "metadata": {
        "id": "sof3YMGSYgeT"
      }
    },
    {
      "cell_type": "code",
      "source": [
        "irrelevant_cols=[\"index\",\"beer/beerId\",\"beer/brewerId\",\"review/timeStruct\",\"review/timeUnix\",\"user/birthdayRaw\",\"user/birthdayUnix\",\"user/profileName\"]\n",
        "data=data.drop(irrelevant_cols,errors='ignore')\n",
        "print(\"after drop\")\n",
        "print(data.columns)"
      ],
      "metadata": {
        "collapsed": true,
        "id": "spDy8KhVYtL-"
      },
      "execution_count": null,
      "outputs": []
    },
    {
      "cell_type": "markdown",
      "source": [
        "PREPROCESSING TEXT AND CATEGORICAL FEATURES"
      ],
      "metadata": {
        "id": "KN2JP6RGadAF"
      }
    },
    {
      "cell_type": "code",
      "source": [
        "from sklearn.feature_extraction.text import TfidfVectorizer\n",
        "from sklearn.preprocessing import LabelEncoder\n",
        "\n",
        "tfidf=TfidfVectorizer(stop_words='english',max_features=500)\n",
        "review_text_tfidf=tfidf.fit_transform(data['review/text'].fillna('')).toarray()\n",
        "\n",
        "le_style=LabelEncoder()\n",
        "data['beer/style']=le_style.fit_transform(data['beer/style'].fillna('Unknown'))\n",
        "data['beer/name']=le_style.fit_transform(data['beer/name'].fillna('Unknown'))\n",
        "\n",
        "import numpy as np\n",
        "tfidf_features=pd.DataFrame(review_text_tfidf,columns=[f'tfidf_{i}' for i in range(review_text_tfidf.shape[1])])\n",
        "data = pd.concat([data.reset_index(drop=True), tfidf_features.reset_index(drop=True)], axis=1)\n",
        "data = data.drop(columns=['review/text'])\n",
        "\n",
        "print(\"Data after preprocessing:\")\n",
        "print(data.head())\n"
      ],
      "metadata": {
        "collapsed": true,
        "id": "D7Hj8c0YamR1"
      },
      "execution_count": null,
      "outputs": []
    },
    {
      "cell_type": "markdown",
      "source": [
        "Splitting dataset"
      ],
      "metadata": {
        "id": "3WS8Z3JXf0RE"
      }
    },
    {
      "cell_type": "code",
      "source": [
        "from sklearn.model_selection import train_test_split\n",
        "\n",
        "X = data.drop(columns=['review/overall'])\n",
        "y = data['review/overall']\n",
        "\n",
        "\n",
        "X_train, X_test, y_train, y_test = train_test_split(X, y, test_size=0.2, random_state=42)\n",
        "\n",
        "\n",
        "print(\"Training Features Shape:\", X_train.shape)\n",
        "print(\"Test Features Shape:\", X_test.shape)\n",
        "print(\"Training Labels Shape:\", y_train.shape)\n",
        "print(\"Test Labels Shape:\", y_test.shape)"
      ],
      "metadata": {
        "id": "Cj8bhoVaf3W4"
      },
      "execution_count": null,
      "outputs": []
    },
    {
      "cell_type": "markdown",
      "source": [
        "Training the model"
      ],
      "metadata": {
        "id": "wqCpuA8egte9"
      }
    },
    {
      "cell_type": "code",
      "source": [
        "from sklearn.ensemble import RandomForestRegressor\n",
        "from sklearn.metrics import mean_squared_error, r2_score\n",
        "\n",
        "X_train = X_train.drop(columns=['review/timeStruct', 'user/profileName'], errors='ignore')\n",
        "X_test = X_test.drop(columns=['review/timeStruct', 'user/profileName'], errors='ignore')\n",
        "\n",
        "rf_model = RandomForestRegressor(random_state=42, n_estimators=10)#you can use more estimators also\n",
        "rf_model.fit(X_train, y_train)\n",
        "y_pred = rf_model.predict(X_test)\n",
        "mse = mean_squared_error(y_test, y_pred)\n",
        "r2 = r2_score(y_test, y_pred)\n",
        "\n",
        "print(\"Model Evaluation Metrics:\")\n",
        "print(f\"Mean Squared Error (MSE): {mse}\")\n",
        "print(f\"R-squared (R2): {r2}\")\n"
      ],
      "metadata": {
        "id": "hqSfXSdPg0Cz"
      },
      "execution_count": null,
      "outputs": []
    },
    {
      "cell_type": "markdown",
      "source": [
        "testing of model"
      ],
      "metadata": {
        "id": "TwMrncxmmgZ_"
      }
    },
    {
      "cell_type": "code",
      "source": [
        "new_data = X_test.iloc[10:11]\n",
        "predicted_rating = rf_model.predict(new_data)\n",
        "\n",
        "print(new_data)\n",
        "print(f\"Predicted Overall Rating: {predicted_rating[0]}\")"
      ],
      "metadata": {
        "id": "1QGaMQ1ime7o"
      },
      "execution_count": null,
      "outputs": []
    }
  ]
}